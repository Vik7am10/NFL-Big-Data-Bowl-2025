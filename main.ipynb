{
 "cells": [
  {
   "cell_type": "code",
   "execution_count": 1,
   "metadata": {},
   "outputs": [
    {
     "name": "stdout",
     "output_type": "stream",
     "text": [
      "Extracted Files: ['plays.csv', 'tracking_week_5.csv', 'tracking_week_4.csv', 'tracking_week_6.csv', 'tracking_week_7.csv', 'tracking_week_3.csv', 'tracking_week_2.csv', 'tracking_week_1.csv', 'players.csv', 'games.csv', 'tracking_week_9.csv', 'tracking_week_8.csv', 'player_play.csv']\n"
     ]
    }
   ],
   "source": [
    "import zipfile\n",
    "import os\n",
    "\n",
    "# Define the file path for the uploaded zip file\n",
    "uploaded_zip_path = \"nfl-big-data-bowl-2025.zip\"  # Change if the uploaded file has a different name\n",
    "extracted_path = \"nfl-big-data-bowl-2025/\"\n",
    "\n",
    "# Extract the zip file\n",
    "with zipfile.ZipFile(uploaded_zip_path, 'r') as zip_ref:\n",
    "    zip_ref.extractall(extracted_path)\n",
    "\n",
    "# List the extracted files\n",
    "extracted_files = os.listdir(extracted_path)\n",
    "print(\"Extracted Files:\", extracted_files)"
   ]
  },
  {
   "cell_type": "code",
   "execution_count": 3,
   "metadata": {},
   "outputs": [
    {
     "name": "stdout",
     "output_type": "stream",
     "text": [
      "Tight End Data with Alignments:\n",
      "   nflId alignment  yardsGained inMotionAtBallSnap\n",
      "0  47879     Other            6              False\n",
      "1  47879     Other            7              False\n",
      "2  47879      Wide            7              False\n",
      "3  47879      Wide            6              False\n",
      "4  47879     Other           12              False\n"
     ]
    }
   ],
   "source": [
    "import pandas as pd\n",
    "\n",
    "players = pd.read_csv('nfl-big-data-bowl-2025/players.csv')\n",
    "player_play = pd.read_csv('nfl-big-data-bowl-2025/player_play.csv')\n",
    "plays = pd.read_csv('nfl-big-data-bowl-2025/plays.csv')\n",
    "\n",
    "te_players = players[players['position'] == 'TE']\n",
    "\n",
    "te_data = player_play.merge(te_players, on='nflId').merge(plays, on=['gameId', 'playId'])\n",
    "\n",
    "# Add pre-snap alignment categories (Inline, Slot, Wide) based on receiverAlignment\n",
    "def categorize_alignment(alignment):\n",
    "    if alignment == '0x0':  # Inline alignment\n",
    "        return 'Inline'\n",
    "    elif alignment in ['1x0', '2x0']:  # Slot alignment\n",
    "        return 'Slot'\n",
    "    elif alignment in ['1x1', '2x1', '3x1']:  # Wide alignment\n",
    "        return 'Wide'\n",
    "    else:\n",
    "        return 'Other'\n",
    "\n",
    "te_data['alignment'] = te_data['receiverAlignment'].apply(categorize_alignment)\n",
    "\n",
    "print(\"Tight End Data with Alignments:\")\n",
    "print(te_data[['nflId', 'alignment', 'yardsGained', 'inMotionAtBallSnap']].head())"
   ]
  }
 ],
 "metadata": {
  "kernelspec": {
   "display_name": "env",
   "language": "python",
   "name": "python3"
  },
  "language_info": {
   "codemirror_mode": {
    "name": "ipython",
    "version": 3
   },
   "file_extension": ".py",
   "mimetype": "text/x-python",
   "name": "python",
   "nbconvert_exporter": "python",
   "pygments_lexer": "ipython3",
   "version": "3.12.6"
  }
 },
 "nbformat": 4,
 "nbformat_minor": 2
}
